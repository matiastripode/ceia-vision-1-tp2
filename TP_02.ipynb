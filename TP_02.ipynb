{
 "cells": [
  {
   "attachments": {},
   "cell_type": "markdown",
   "metadata": {},
   "source": [
    "# TP 02 - Vision por Computadoras I\n",
    "\n",
    "**Alumno**: Matias Tripode"
   ]
  },
  {
   "cell_type": "markdown",
   "metadata": {},
   "source": [
    "# 1) Se debe implementar un algoritmo que dada una imagen, o región, calcule la métrica propuesta en el paper \"Image Sharpness Measure for Blurred Images in Frequency Domain“ y realizar tres experimentos:"
   ]
  },
  {
   "cell_type": "markdown",
   "metadata": {},
   "source": [
    "###  1.1) Medición sobre todo el frame."
   ]
  },
  {
   "cell_type": "code",
   "execution_count": 1,
   "metadata": {},
   "outputs": [],
   "source": [
    "%matplotlib qt\n",
    "\n",
    "\n",
    "import numpy as np\n",
    "import cv2 as cv\n",
    "import supervision as sv\n",
    "from skimage.util import random_noise\n",
    "from matplotlib import pyplot as plt"
   ]
  },
  {
   "cell_type": "code",
   "execution_count": 2,
   "metadata": {},
   "outputs": [],
   "source": [
    "def _filter_round_shape(height, width, radius):\n",
    "  canvas = np.zeros((height, width))\n",
    "  return cv.circle(canvas,\n",
    "                     center=(int(canvas.shape[1]/2), int(canvas.shape[0]/2)),\n",
    "                     radius=radius,\n",
    "                     color=(255),\n",
    "                     thickness=-1).astype(np.uint8)"
   ]
  },
  {
   "cell_type": "code",
   "execution_count": 3,
   "metadata": {},
   "outputs": [],
   "source": [
    "def create_hp_filter(height, width, radius=60):\n",
    "\n",
    "  lp_filter = _filter_round_shape(height, width, radius)\n",
    "  return cv.bitwise_not(lp_filter)"
   ]
  },
  {
   "cell_type": "code",
   "execution_count": 4,
   "metadata": {},
   "outputs": [],
   "source": [
    "# Implementacion del Algoritmo explicado en \"Image Sharpness Measure for Blurred Images in Frequency Domain\"\n",
    "def calcular_metrica_frequency_domain_blur_measure(frame):\n",
    "    # Step 1: Compute F which is the Fourier Transform representation of image I\n",
    "    frame_fft = np.fft.fft2(frame)\n",
    "    # Step 2: Find Fc which is obtained by shifting the origin of F to centre.\n",
    "    frame_fft_center = np.fft.fftshift(frame_fft)\n",
    "    # Step 3: Calculate AF = abs (Fc) where AF is the absolute value of the centered Fourier transform of image I. \n",
    "    frame_fft_abs = np.abs(frame_fft_center) \n",
    "    # Step 4: Calculate M = max (AF) where M is the maximum value of the frequency component in F. \n",
    "    frame_fft_max = np.max(frame_fft_abs)\n",
    "    # Step 5: Calculate TH = the total number of pixels in F whose pixel value > thres, where thres = M/1000. \n",
    "    thres = frame_fft_max / 1000.0\n",
    "    frame_fft_thres = np.count_nonzero(frame_fft_abs > thres)\n",
    "    # Step 6: Calculate Image Quality measure (FM) from equation (1).\n",
    "    return frame_fft_thres/(frame.shape[0] * frame.shape[1])\n",
    "\n"
   ]
  },
  {
   "cell_type": "code",
   "execution_count": 5,
   "metadata": {},
   "outputs": [],
   "source": [
    "def calcular_nitidez(frame, algoritmo):\n",
    "    # Convertir a escala de grises\n",
    "    frame_gris = cv.cvtColor(frame, cv.COLOR_BGR2GRAY)\n",
    "    # Aplicamos un suavizado Gaussiano de 5x5\n",
    "    frame_blur = cv.GaussianBlur(frame_gris, (5,5), sigmaX=1.5)\n",
    "    # Aplicar filtro de realce de bordes con Canny\n",
    "    bordes = cv.Canny(frame_blur, threshold1=5, threshold2=200)\n",
    "    # Calcular métrica de nitidez sobre bordes\n",
    "    nitidez = algoritmo(bordes)\n",
    "    return nitidez\n"
   ]
  },
  {
   "cell_type": "code",
   "execution_count": 6,
   "metadata": {},
   "outputs": [],
   "source": [
    "def obtener_metrica_nitidez_para_todo_el_frame(video_path, algoritmo_metrica_de_enfoque):\n",
    "    # Abre el video\n",
    "    captura_video = cv.VideoCapture(video_path)\n",
    "    if not captura_video.isOpened():\n",
    "        print(\"Error al abrir el archivo de video\")\n",
    "    else:\n",
    "        result = {'count_frame': [], 'nitidez': []}\n",
    "        count = 0\n",
    "        while True:\n",
    "            ret, frame = captura_video.read()\n",
    "            if ret:\n",
    "                # Procesar frame\n",
    "                nitidez = calcular_nitidez(frame, algoritmo=algoritmo_metrica_de_enfoque)\n",
    "                result['count_frame'].append(count)\n",
    "                result['nitidez'].append(nitidez)\n",
    "                count += 1\n",
    "            else:\n",
    "                # Si no hay más frames (ret == False), salir del bucle\n",
    "                break\n",
    "\n",
    "    # Libera el objeto de captura de video\n",
    "    captura_video.release()\n",
    "    cv.destroyAllWindows()\n",
    "    return result"
   ]
  },
  {
   "cell_type": "code",
   "execution_count": 7,
   "metadata": {},
   "outputs": [],
   "source": [
    "def graficar_nitidez(datos, titulo, color):\n",
    "    # Crear la gráfica\n",
    "    plt.figure(figsize=(10, 5))  # Tamaño del gráfico (opcional)\n",
    "    plt.plot(datos['count_frame'], datos['nitidez'], \n",
    "            marker='o',\n",
    "            linestyle='',  # Línea continua\n",
    "            color=color,  # Color de la línea\n",
    "            label='Nitidez por frame')\n",
    "\n",
    "    # Personalizar el gráfico\n",
    "    plt.title(titulo, fontsize=14)\n",
    "    plt.xlabel('Número de Frame (count_frame)', fontsize=12)\n",
    "    plt.ylabel('Nitidez', fontsize=12)\n",
    "    plt.grid(True, linestyle='--', alpha=0.7)  # Cuadrícula\n",
    "    plt.legend()  # Mostrar leyenda\n",
    "\n",
    "    # Ajustar límites del eje X para que empiece en 0\n",
    "    plt.xlim(0, max(datos['count_frame']) + 1)\n",
    "\n",
    "    # Mostrar la gráfica\n",
    "    plt.show()"
   ]
  },
  {
   "cell_type": "code",
   "execution_count": 8,
   "metadata": {},
   "outputs": [],
   "source": [
    "# Funcion para graficar la nitidez. Normalización min-max a [0, 1]\n",
    "def normalizar_nitidez(nitidez):\n",
    "    nitidez_min = np.min(nitidez)\n",
    "    nitidez_max = np.max(nitidez)\n",
    "    divisor = (nitidez_max - nitidez_min) if (nitidez_max - nitidez_min) != 0 else 1\n",
    "    nitidez_normalizada = (nitidez - nitidez_min) / divisor\n",
    "    return nitidez_normalizada"
   ]
  },
  {
   "cell_type": "code",
   "execution_count": 9,
   "metadata": {},
   "outputs": [],
   "source": [
    "datos = obtener_metrica_nitidez_para_todo_el_frame('focus_video.mov', algoritmo_metrica_de_enfoque=calcular_metrica_frequency_domain_blur_measure)\n",
    "datos['nitidez'] = normalizar_nitidez(np.array(datos['nitidez']))\n",
    "# Graficar nitidez vs frame\n",
    "graficar_nitidez(datos, 'Nitidez para todo el frame, metrica Frequency Domain Blur', color='blue')"
   ]
  },
  {
   "cell_type": "markdown",
   "metadata": {},
   "source": [
    "-------------"
   ]
  },
  {
   "cell_type": "markdown",
   "metadata": {},
   "source": [
    "###  1.2) Medición sobre una ROI ubicada en el centro del frame. Area de la ROI = 5 o 10% del area total del frame."
   ]
  },
  {
   "cell_type": "code",
   "execution_count": 10,
   "metadata": {},
   "outputs": [],
   "source": [
    "def obtener_region_centrada(frame, porcentaje):\n",
    "    filas, columnas = frame.shape[:2] \n",
    "    # Calcular el tamaño del lado cuadrado de la ROI\n",
    "    lado_roi = int(min(filas, columnas) * porcentaje)\n",
    "\n",
    "    # Calcular coordenadas para centrar la ROI\n",
    "    x_centro, y_centro = columnas // 2, filas // 2\n",
    "    x1 = x_centro - lado_roi // 2\n",
    "    y1 = y_centro - lado_roi // 2\n",
    "    x2 = x1 + lado_roi\n",
    "    y2 = y1 + lado_roi\n",
    "\n",
    "    # recortar el cuadrado roi\n",
    "    roi = frame[y1:y2, x1:x2]\n",
    "    return roi\n"
   ]
  },
  {
   "cell_type": "code",
   "execution_count": 11,
   "metadata": {},
   "outputs": [],
   "source": [
    "def obtener_metrica_nitidez_para_regrion_roi(video_path, porcentaje, algoritmo_metrica_de_enfoque):\n",
    "    # Abre el video\n",
    "    captura_video = cv.VideoCapture(video_path)\n",
    "    if not captura_video.isOpened():\n",
    "        print(\"Error al abrir el archivo de video\")\n",
    "    else:\n",
    "        result = {'count_frame': [], 'nitidez': []}\n",
    "        count = 0\n",
    "        while True:\n",
    "            ret, frame = captura_video.read()            \n",
    "            if ret:\n",
    "                region_roi = obtener_region_centrada(frame, porcentaje)\n",
    "                # Procesar frame\n",
    "                nitidez = calcular_nitidez(region_roi, algoritmo=algoritmo_metrica_de_enfoque)\n",
    "                result['count_frame'].append(count)\n",
    "                result['nitidez'].append(nitidez)\n",
    "                count += 1\n",
    "            else:\n",
    "                # Si no hay más frames (ret == False), salir del bucle\n",
    "                break\n",
    "\n",
    "    # Libera el objeto de captura de video\n",
    "    captura_video.release()\n",
    "    cv.destroyAllWindows()\n",
    "    return result"
   ]
  },
  {
   "cell_type": "code",
   "execution_count": 12,
   "metadata": {},
   "outputs": [],
   "source": [
    "cinco_porciento = 0.05\n",
    "datos = obtener_metrica_nitidez_para_regrion_roi('focus_video.mov', cinco_porciento, algoritmo_metrica_de_enfoque=calcular_metrica_frequency_domain_blur_measure)\n",
    "datos['nitidez'] = normalizar_nitidez(np.array(datos['nitidez']))\n",
    "# Graficar nitidez vs frame\n",
    "graficar_nitidez(datos, 'Nitidez para region 5%, metrica Frequency Domain Blur', color='blue')"
   ]
  },
  {
   "cell_type": "markdown",
   "metadata": {},
   "source": [
    "---------------------"
   ]
  },
  {
   "cell_type": "markdown",
   "metadata": {},
   "source": [
    "# 2). Cambiar la métrica de enfoque eligiendo uno de los algoritmos explicados en el apéndice de: Analysis of focus measure operators in shapefrom focus."
   ]
  },
  {
   "cell_type": "code",
   "execution_count": 13,
   "metadata": {},
   "outputs": [],
   "source": [
    "# Calcular metrica de enfoque \"Energy of Laplacian (LAP1)\" descripta en \"Analysis of focus measure operators in shapefrom focus\"\n",
    "def calcular_metrica_energy_of_laplacian(frame):\n",
    "    # Aplicar el operador Laplaciano\n",
    "    laplaciano = cv.Laplacian(frame, cv.CV_64F)\n",
    "    # Calcular la energía del Laplaciano: suma del cuadrado de cada valor\n",
    "    energia = np.sum(np.square(laplaciano))\n",
    "    return energia\n"
   ]
  },
  {
   "cell_type": "code",
   "execution_count": 14,
   "metadata": {},
   "outputs": [],
   "source": [
    "def calcular_metrica_gray_level_variance(frame):\n",
    "    # Calcular la varianza\n",
    "    variance = np.var(frame)\n",
    "    return variance"
   ]
  },
  {
   "cell_type": "code",
   "execution_count": 15,
   "metadata": {},
   "outputs": [],
   "source": [
    "datos = obtener_metrica_nitidez_para_todo_el_frame('focus_video.mov', algoritmo_metrica_de_enfoque=calcular_metrica_energy_of_laplacian)\n",
    "datos['nitidez'] = normalizar_nitidez(np.array(datos['nitidez']))\n",
    "# Graficar nitidez vs frame\n",
    "graficar_nitidez(datos, 'Nitidez para todo el frame, metrica Energy of Laplacian (LAP1)', color='green')"
   ]
  },
  {
   "cell_type": "code",
   "execution_count": 16,
   "metadata": {},
   "outputs": [],
   "source": [
    "cinco_porciento = 0.05\n",
    "datos = obtener_metrica_nitidez_para_regrion_roi('focus_video.mov', cinco_porciento, algoritmo_metrica_de_enfoque=calcular_metrica_energy_of_laplacian)\n",
    "datos['nitidez'] = normalizar_nitidez(np.array(datos['nitidez']))\n",
    "# Graficar nitidez vs frame\n",
    "graficar_nitidez(datos, 'Nitidez para region 5%, metrica Energy of Laplacian (LAP1)', color='green')"
   ]
  }
 ],
 "metadata": {
  "kernelspec": {
   "display_name": "intro_ai_311",
   "language": "python",
   "name": "python3"
  },
  "language_info": {
   "codemirror_mode": {
    "name": "ipython",
    "version": 3
   },
   "file_extension": ".py",
   "mimetype": "text/x-python",
   "name": "python",
   "nbconvert_exporter": "python",
   "pygments_lexer": "ipython3",
   "version": "3.11.10"
  }
 },
 "nbformat": 4,
 "nbformat_minor": 2
}
